{
  "nbformat": 4,
  "nbformat_minor": 0,
  "metadata": {
    "colab": {
      "provenance": []
    },
    "kernelspec": {
      "name": "python3",
      "display_name": "Python 3"
    },
    "language_info": {
      "name": "python"
    }
  },
  "cells": [
    {
      "cell_type": "markdown",
      "source": [
        "### Importación de datos\n",
        "\n"
      ],
      "metadata": {
        "id": "RhEdWd9YUR6H"
      }
    },
    {
      "cell_type": "code",
      "execution_count": 44,
      "metadata": {
        "colab": {
          "base_uri": "https://localhost:8080/",
          "height": 310
        },
        "id": "T3EvaeQ_INIL",
        "outputId": "c74839ae-3d74-4788-cf1f-330a3ac9680a"
      },
      "outputs": [
        {
          "output_type": "execute_result",
          "data": {
            "text/plain": [
              "              Producto Categoría del Producto     Precio  Costo de envío  \\\n",
              "0         Lavavajillas      Electrodomésticos 1084800.00        56000.00   \n",
              "1             Cama box                Muebles  473800.00        25400.00   \n",
              "2  Balón de baloncesto   Deportes y diversión   23700.00            0.00   \n",
              "3  Modelado predictivo                 Libros   57700.00         1300.00   \n",
              "4          Auriculares           Electrónicos  138900.00         5600.00   \n",
              "\n",
              "  Fecha de Compra         Vendedor Lugar de Compra  Calificación  \\\n",
              "0      11/11/2022    Rafael Acosta          Bogotá             4   \n",
              "1      03/01/2020  Izabela de León          Cúcuta             5   \n",
              "2      25/12/2022    Maria Alfonso        Medellín             5   \n",
              "3      23/11/2021    Lucas Olivera        Medellín             3   \n",
              "4      25/04/2022   Blanca Ramirez          Bogotá             4   \n",
              "\n",
              "       Método de pago  Cantidad de cuotas  lat    lon  \n",
              "0  Tarjeta de crédito                   3 4.61 -74.08  \n",
              "1  Tarjeta de crédito                   2 7.89 -72.51  \n",
              "2               Nequi                   1 6.25 -75.56  \n",
              "3               Nequi                   1 6.25 -75.56  \n",
              "4  Tarjeta de crédito                   7 4.61 -74.08  "
            ],
            "text/html": [
              "\n",
              "  <div id=\"df-aaec9993-515e-4972-a182-d27588d4ff68\" class=\"colab-df-container\">\n",
              "    <div>\n",
              "<style scoped>\n",
              "    .dataframe tbody tr th:only-of-type {\n",
              "        vertical-align: middle;\n",
              "    }\n",
              "\n",
              "    .dataframe tbody tr th {\n",
              "        vertical-align: top;\n",
              "    }\n",
              "\n",
              "    .dataframe thead th {\n",
              "        text-align: right;\n",
              "    }\n",
              "</style>\n",
              "<table border=\"1\" class=\"dataframe\">\n",
              "  <thead>\n",
              "    <tr style=\"text-align: right;\">\n",
              "      <th></th>\n",
              "      <th>Producto</th>\n",
              "      <th>Categoría del Producto</th>\n",
              "      <th>Precio</th>\n",
              "      <th>Costo de envío</th>\n",
              "      <th>Fecha de Compra</th>\n",
              "      <th>Vendedor</th>\n",
              "      <th>Lugar de Compra</th>\n",
              "      <th>Calificación</th>\n",
              "      <th>Método de pago</th>\n",
              "      <th>Cantidad de cuotas</th>\n",
              "      <th>lat</th>\n",
              "      <th>lon</th>\n",
              "    </tr>\n",
              "  </thead>\n",
              "  <tbody>\n",
              "    <tr>\n",
              "      <th>0</th>\n",
              "      <td>Lavavajillas</td>\n",
              "      <td>Electrodomésticos</td>\n",
              "      <td>1084800.00</td>\n",
              "      <td>56000.00</td>\n",
              "      <td>11/11/2022</td>\n",
              "      <td>Rafael Acosta</td>\n",
              "      <td>Bogotá</td>\n",
              "      <td>4</td>\n",
              "      <td>Tarjeta de crédito</td>\n",
              "      <td>3</td>\n",
              "      <td>4.61</td>\n",
              "      <td>-74.08</td>\n",
              "    </tr>\n",
              "    <tr>\n",
              "      <th>1</th>\n",
              "      <td>Cama box</td>\n",
              "      <td>Muebles</td>\n",
              "      <td>473800.00</td>\n",
              "      <td>25400.00</td>\n",
              "      <td>03/01/2020</td>\n",
              "      <td>Izabela de León</td>\n",
              "      <td>Cúcuta</td>\n",
              "      <td>5</td>\n",
              "      <td>Tarjeta de crédito</td>\n",
              "      <td>2</td>\n",
              "      <td>7.89</td>\n",
              "      <td>-72.51</td>\n",
              "    </tr>\n",
              "    <tr>\n",
              "      <th>2</th>\n",
              "      <td>Balón de baloncesto</td>\n",
              "      <td>Deportes y diversión</td>\n",
              "      <td>23700.00</td>\n",
              "      <td>0.00</td>\n",
              "      <td>25/12/2022</td>\n",
              "      <td>Maria Alfonso</td>\n",
              "      <td>Medellín</td>\n",
              "      <td>5</td>\n",
              "      <td>Nequi</td>\n",
              "      <td>1</td>\n",
              "      <td>6.25</td>\n",
              "      <td>-75.56</td>\n",
              "    </tr>\n",
              "    <tr>\n",
              "      <th>3</th>\n",
              "      <td>Modelado predictivo</td>\n",
              "      <td>Libros</td>\n",
              "      <td>57700.00</td>\n",
              "      <td>1300.00</td>\n",
              "      <td>23/11/2021</td>\n",
              "      <td>Lucas Olivera</td>\n",
              "      <td>Medellín</td>\n",
              "      <td>3</td>\n",
              "      <td>Nequi</td>\n",
              "      <td>1</td>\n",
              "      <td>6.25</td>\n",
              "      <td>-75.56</td>\n",
              "    </tr>\n",
              "    <tr>\n",
              "      <th>4</th>\n",
              "      <td>Auriculares</td>\n",
              "      <td>Electrónicos</td>\n",
              "      <td>138900.00</td>\n",
              "      <td>5600.00</td>\n",
              "      <td>25/04/2022</td>\n",
              "      <td>Blanca Ramirez</td>\n",
              "      <td>Bogotá</td>\n",
              "      <td>4</td>\n",
              "      <td>Tarjeta de crédito</td>\n",
              "      <td>7</td>\n",
              "      <td>4.61</td>\n",
              "      <td>-74.08</td>\n",
              "    </tr>\n",
              "  </tbody>\n",
              "</table>\n",
              "</div>\n",
              "    <div class=\"colab-df-buttons\">\n",
              "\n",
              "  <div class=\"colab-df-container\">\n",
              "    <button class=\"colab-df-convert\" onclick=\"convertToInteractive('df-aaec9993-515e-4972-a182-d27588d4ff68')\"\n",
              "            title=\"Convert this dataframe to an interactive table.\"\n",
              "            style=\"display:none;\">\n",
              "\n",
              "  <svg xmlns=\"http://www.w3.org/2000/svg\" height=\"24px\" viewBox=\"0 -960 960 960\">\n",
              "    <path d=\"M120-120v-720h720v720H120Zm60-500h600v-160H180v160Zm220 220h160v-160H400v160Zm0 220h160v-160H400v160ZM180-400h160v-160H180v160Zm440 0h160v-160H620v160ZM180-180h160v-160H180v160Zm440 0h160v-160H620v160Z\"/>\n",
              "  </svg>\n",
              "    </button>\n",
              "\n",
              "  <style>\n",
              "    .colab-df-container {\n",
              "      display:flex;\n",
              "      gap: 12px;\n",
              "    }\n",
              "\n",
              "    .colab-df-convert {\n",
              "      background-color: #E8F0FE;\n",
              "      border: none;\n",
              "      border-radius: 50%;\n",
              "      cursor: pointer;\n",
              "      display: none;\n",
              "      fill: #1967D2;\n",
              "      height: 32px;\n",
              "      padding: 0 0 0 0;\n",
              "      width: 32px;\n",
              "    }\n",
              "\n",
              "    .colab-df-convert:hover {\n",
              "      background-color: #E2EBFA;\n",
              "      box-shadow: 0px 1px 2px rgba(60, 64, 67, 0.3), 0px 1px 3px 1px rgba(60, 64, 67, 0.15);\n",
              "      fill: #174EA6;\n",
              "    }\n",
              "\n",
              "    .colab-df-buttons div {\n",
              "      margin-bottom: 4px;\n",
              "    }\n",
              "\n",
              "    [theme=dark] .colab-df-convert {\n",
              "      background-color: #3B4455;\n",
              "      fill: #D2E3FC;\n",
              "    }\n",
              "\n",
              "    [theme=dark] .colab-df-convert:hover {\n",
              "      background-color: #434B5C;\n",
              "      box-shadow: 0px 1px 3px 1px rgba(0, 0, 0, 0.15);\n",
              "      filter: drop-shadow(0px 1px 2px rgba(0, 0, 0, 0.3));\n",
              "      fill: #FFFFFF;\n",
              "    }\n",
              "  </style>\n",
              "\n",
              "    <script>\n",
              "      const buttonEl =\n",
              "        document.querySelector('#df-aaec9993-515e-4972-a182-d27588d4ff68 button.colab-df-convert');\n",
              "      buttonEl.style.display =\n",
              "        google.colab.kernel.accessAllowed ? 'block' : 'none';\n",
              "\n",
              "      async function convertToInteractive(key) {\n",
              "        const element = document.querySelector('#df-aaec9993-515e-4972-a182-d27588d4ff68');\n",
              "        const dataTable =\n",
              "          await google.colab.kernel.invokeFunction('convertToInteractive',\n",
              "                                                    [key], {});\n",
              "        if (!dataTable) return;\n",
              "\n",
              "        const docLinkHtml = 'Like what you see? Visit the ' +\n",
              "          '<a target=\"_blank\" href=https://colab.research.google.com/notebooks/data_table.ipynb>data table notebook</a>'\n",
              "          + ' to learn more about interactive tables.';\n",
              "        element.innerHTML = '';\n",
              "        dataTable['output_type'] = 'display_data';\n",
              "        await google.colab.output.renderOutput(dataTable, element);\n",
              "        const docLink = document.createElement('div');\n",
              "        docLink.innerHTML = docLinkHtml;\n",
              "        element.appendChild(docLink);\n",
              "      }\n",
              "    </script>\n",
              "  </div>\n",
              "\n",
              "\n",
              "    <div id=\"df-2d63c780-721a-4c51-95c2-9797464854ad\">\n",
              "      <button class=\"colab-df-quickchart\" onclick=\"quickchart('df-2d63c780-721a-4c51-95c2-9797464854ad')\"\n",
              "                title=\"Suggest charts\"\n",
              "                style=\"display:none;\">\n",
              "\n",
              "<svg xmlns=\"http://www.w3.org/2000/svg\" height=\"24px\"viewBox=\"0 0 24 24\"\n",
              "     width=\"24px\">\n",
              "    <g>\n",
              "        <path d=\"M19 3H5c-1.1 0-2 .9-2 2v14c0 1.1.9 2 2 2h14c1.1 0 2-.9 2-2V5c0-1.1-.9-2-2-2zM9 17H7v-7h2v7zm4 0h-2V7h2v10zm4 0h-2v-4h2v4z\"/>\n",
              "    </g>\n",
              "</svg>\n",
              "      </button>\n",
              "\n",
              "<style>\n",
              "  .colab-df-quickchart {\n",
              "      --bg-color: #E8F0FE;\n",
              "      --fill-color: #1967D2;\n",
              "      --hover-bg-color: #E2EBFA;\n",
              "      --hover-fill-color: #174EA6;\n",
              "      --disabled-fill-color: #AAA;\n",
              "      --disabled-bg-color: #DDD;\n",
              "  }\n",
              "\n",
              "  [theme=dark] .colab-df-quickchart {\n",
              "      --bg-color: #3B4455;\n",
              "      --fill-color: #D2E3FC;\n",
              "      --hover-bg-color: #434B5C;\n",
              "      --hover-fill-color: #FFFFFF;\n",
              "      --disabled-bg-color: #3B4455;\n",
              "      --disabled-fill-color: #666;\n",
              "  }\n",
              "\n",
              "  .colab-df-quickchart {\n",
              "    background-color: var(--bg-color);\n",
              "    border: none;\n",
              "    border-radius: 50%;\n",
              "    cursor: pointer;\n",
              "    display: none;\n",
              "    fill: var(--fill-color);\n",
              "    height: 32px;\n",
              "    padding: 0;\n",
              "    width: 32px;\n",
              "  }\n",
              "\n",
              "  .colab-df-quickchart:hover {\n",
              "    background-color: var(--hover-bg-color);\n",
              "    box-shadow: 0 1px 2px rgba(60, 64, 67, 0.3), 0 1px 3px 1px rgba(60, 64, 67, 0.15);\n",
              "    fill: var(--button-hover-fill-color);\n",
              "  }\n",
              "\n",
              "  .colab-df-quickchart-complete:disabled,\n",
              "  .colab-df-quickchart-complete:disabled:hover {\n",
              "    background-color: var(--disabled-bg-color);\n",
              "    fill: var(--disabled-fill-color);\n",
              "    box-shadow: none;\n",
              "  }\n",
              "\n",
              "  .colab-df-spinner {\n",
              "    border: 2px solid var(--fill-color);\n",
              "    border-color: transparent;\n",
              "    border-bottom-color: var(--fill-color);\n",
              "    animation:\n",
              "      spin 1s steps(1) infinite;\n",
              "  }\n",
              "\n",
              "  @keyframes spin {\n",
              "    0% {\n",
              "      border-color: transparent;\n",
              "      border-bottom-color: var(--fill-color);\n",
              "      border-left-color: var(--fill-color);\n",
              "    }\n",
              "    20% {\n",
              "      border-color: transparent;\n",
              "      border-left-color: var(--fill-color);\n",
              "      border-top-color: var(--fill-color);\n",
              "    }\n",
              "    30% {\n",
              "      border-color: transparent;\n",
              "      border-left-color: var(--fill-color);\n",
              "      border-top-color: var(--fill-color);\n",
              "      border-right-color: var(--fill-color);\n",
              "    }\n",
              "    40% {\n",
              "      border-color: transparent;\n",
              "      border-right-color: var(--fill-color);\n",
              "      border-top-color: var(--fill-color);\n",
              "    }\n",
              "    60% {\n",
              "      border-color: transparent;\n",
              "      border-right-color: var(--fill-color);\n",
              "    }\n",
              "    80% {\n",
              "      border-color: transparent;\n",
              "      border-right-color: var(--fill-color);\n",
              "      border-bottom-color: var(--fill-color);\n",
              "    }\n",
              "    90% {\n",
              "      border-color: transparent;\n",
              "      border-bottom-color: var(--fill-color);\n",
              "    }\n",
              "  }\n",
              "</style>\n",
              "\n",
              "      <script>\n",
              "        async function quickchart(key) {\n",
              "          const quickchartButtonEl =\n",
              "            document.querySelector('#' + key + ' button');\n",
              "          quickchartButtonEl.disabled = true;  // To prevent multiple clicks.\n",
              "          quickchartButtonEl.classList.add('colab-df-spinner');\n",
              "          try {\n",
              "            const charts = await google.colab.kernel.invokeFunction(\n",
              "                'suggestCharts', [key], {});\n",
              "          } catch (error) {\n",
              "            console.error('Error during call to suggestCharts:', error);\n",
              "          }\n",
              "          quickchartButtonEl.classList.remove('colab-df-spinner');\n",
              "          quickchartButtonEl.classList.add('colab-df-quickchart-complete');\n",
              "        }\n",
              "        (() => {\n",
              "          let quickchartButtonEl =\n",
              "            document.querySelector('#df-2d63c780-721a-4c51-95c2-9797464854ad button');\n",
              "          quickchartButtonEl.style.display =\n",
              "            google.colab.kernel.accessAllowed ? 'block' : 'none';\n",
              "        })();\n",
              "      </script>\n",
              "    </div>\n",
              "\n",
              "    </div>\n",
              "  </div>\n"
            ],
            "application/vnd.google.colaboratory.intrinsic+json": {
              "type": "dataframe",
              "variable_name": "tienda4",
              "summary": "{\n  \"name\": \"tienda4\",\n  \"rows\": 2358,\n  \"fields\": [\n    {\n      \"column\": \"Producto\",\n      \"properties\": {\n        \"dtype\": \"category\",\n        \"num_unique_values\": 51,\n        \"samples\": [\n          \"Microondas\",\n          \"Set de ollas\",\n          \"Lavadora de ropa\"\n        ],\n        \"semantic_type\": \"\",\n        \"description\": \"\"\n      }\n    },\n    {\n      \"column\": \"Categor\\u00eda del Producto\",\n      \"properties\": {\n        \"dtype\": \"category\",\n        \"num_unique_values\": 8,\n        \"samples\": [\n          \"Muebles\",\n          \"Instrumentos musicales\",\n          \"Electrodom\\u00e9sticos\"\n        ],\n        \"semantic_type\": \"\",\n        \"description\": \"\"\n      }\n    },\n    {\n      \"column\": \"Precio\",\n      \"properties\": {\n        \"dtype\": \"number\",\n        \"std\": 568755.6039486045,\n        \"min\": 7600.0,\n        \"max\": 2902200.0,\n        \"num_unique_values\": 1867,\n        \"samples\": [\n          2151200.0,\n          738300.0,\n          35700.0\n        ],\n        \"semantic_type\": \"\",\n        \"description\": \"\"\n      }\n    },\n    {\n      \"column\": \"Costo de env\\u00edo\",\n      \"properties\": {\n        \"dtype\": \"number\",\n        \"std\": 30279.100835978752,\n        \"min\": 0.0,\n        \"max\": 154700.0,\n        \"num_unique_values\": 692,\n        \"samples\": [\n          73000.0,\n          21300.0,\n          48400.0\n        ],\n        \"semantic_type\": \"\",\n        \"description\": \"\"\n      }\n    },\n    {\n      \"column\": \"Fecha de Compra\",\n      \"properties\": {\n        \"dtype\": \"category\",\n        \"num_unique_values\": 1030,\n        \"samples\": [\n          \"12/06/2022\",\n          \"18/04/2021\",\n          \"24/12/2020\"\n        ],\n        \"semantic_type\": \"\",\n        \"description\": \"\"\n      }\n    },\n    {\n      \"column\": \"Vendedor\",\n      \"properties\": {\n        \"dtype\": \"category\",\n        \"num_unique_values\": 14,\n        \"samples\": [\n          \"Pedro Gomez\",\n          \"Mariana Herrera\",\n          \"Rafael Acosta\"\n        ],\n        \"semantic_type\": \"\",\n        \"description\": \"\"\n      }\n    },\n    {\n      \"column\": \"Lugar de Compra\",\n      \"properties\": {\n        \"dtype\": \"category\",\n        \"num_unique_values\": 19,\n        \"samples\": [\n          \"Bogot\\u00e1\",\n          \"Leticia\",\n          \"Barranquilla\"\n        ],\n        \"semantic_type\": \"\",\n        \"description\": \"\"\n      }\n    },\n    {\n      \"column\": \"Calificaci\\u00f3n\",\n      \"properties\": {\n        \"dtype\": \"number\",\n        \"std\": 1,\n        \"min\": 1,\n        \"max\": 5,\n        \"num_unique_values\": 5,\n        \"samples\": [\n          5,\n          2,\n          3\n        ],\n        \"semantic_type\": \"\",\n        \"description\": \"\"\n      }\n    },\n    {\n      \"column\": \"M\\u00e9todo de pago\",\n      \"properties\": {\n        \"dtype\": \"category\",\n        \"num_unique_values\": 4,\n        \"samples\": [\n          \"Nequi\",\n          \"Tarjeta de d\\u00e9bito\",\n          \"Tarjeta de cr\\u00e9dito\"\n        ],\n        \"semantic_type\": \"\",\n        \"description\": \"\"\n      }\n    },\n    {\n      \"column\": \"Cantidad de cuotas\",\n      \"properties\": {\n        \"dtype\": \"number\",\n        \"std\": 2,\n        \"min\": 1,\n        \"max\": 18,\n        \"num_unique_values\": 13,\n        \"samples\": [\n          18,\n          9,\n          3\n        ],\n        \"semantic_type\": \"\",\n        \"description\": \"\"\n      }\n    },\n    {\n      \"column\": \"lat\",\n      \"properties\": {\n        \"dtype\": \"number\",\n        \"std\": 2.37672825841418,\n        \"min\": -4.21528,\n        \"max\": 11.54444,\n        \"num_unique_values\": 19,\n        \"samples\": [\n          4.60971,\n          -4.21528,\n          10.96854\n        ],\n        \"semantic_type\": \"\",\n        \"description\": \"\"\n      }\n    },\n    {\n      \"column\": \"lon\",\n      \"properties\": {\n        \"dtype\": \"number\",\n        \"std\": 1.1997491363183892,\n        \"min\": -77.28111,\n        \"max\": -67.9239,\n        \"num_unique_values\": 19,\n        \"samples\": [\n          -74.08175,\n          -69.94056,\n          -74.78132\n        ],\n        \"semantic_type\": \"\",\n        \"description\": \"\"\n      }\n    }\n  ]\n}"
            }
          },
          "metadata": {},
          "execution_count": 44
        }
      ],
      "source": [
        "import pandas as pd\n",
        "\n",
        "url = \"https://raw.githubusercontent.com/alura-es-cursos/challenge1-data-science-latam/refs/heads/main/base-de-datos-challenge1-latam/tienda_1%20.csv\"\n",
        "url2 = \"https://raw.githubusercontent.com/alura-es-cursos/challenge1-data-science-latam/refs/heads/main/base-de-datos-challenge1-latam/tienda_2.csv\"\n",
        "url3 = \"https://raw.githubusercontent.com/alura-es-cursos/challenge1-data-science-latam/refs/heads/main/base-de-datos-challenge1-latam/tienda_3.csv\"\n",
        "url4 = \"https://raw.githubusercontent.com/alura-es-cursos/challenge1-data-science-latam/refs/heads/main/base-de-datos-challenge1-latam/tienda_4.csv\"\n",
        "\n",
        "tienda = pd.read_csv(url)\n",
        "tienda2 = pd.read_csv(url2)\n",
        "tienda3 = pd.read_csv(url3)\n",
        "tienda4 = pd.read_csv(url4)\n",
        "\n",
        "tienda.head()\n",
        "tienda2.head()\n",
        "tienda3.head()\n",
        "tienda4.head()"
      ]
    },
    {
      "cell_type": "code",
      "source": [
        "pd.options.display.float_format = '{:.2f}'.format"
      ],
      "metadata": {
        "id": "SInVRQYgpbyf"
      },
      "execution_count": 45,
      "outputs": []
    },
    {
      "cell_type": "code",
      "source": [
        "tienda['ID_Tienda'] = 'Tienda_1'\n",
        "tienda2['ID_Tienda'] = 'Tienda_2'\n",
        "tienda3['ID_Tienda'] = 'Tienda_3'\n",
        "tienda4['ID_Tienda'] = 'Tienda_4'"
      ],
      "metadata": {
        "id": "1pIYWRplfdpC"
      },
      "execution_count": 46,
      "outputs": []
    },
    {
      "cell_type": "code",
      "source": [
        "tiendas = pd.concat([tienda, tienda2, tienda3, tienda4])\n",
        "tiendas.sample(10)"
      ],
      "metadata": {
        "colab": {
          "base_uri": "https://localhost:8080/",
          "height": 728
        },
        "id": "WZMCtbZZbho_",
        "outputId": "dad24275-9e1f-4036-b4ad-754ffdb5bcb9"
      },
      "execution_count": 47,
      "outputs": [
        {
          "output_type": "execute_result",
          "data": {
            "text/plain": [
              "                       Producto   Categoría del Producto     Precio  \\\n",
              "583                  Cubertería  Artículos para el hogar   32500.00   \n",
              "1467             Dinosaurio Rex                 Juguetes   17700.00   \n",
              "1182                  Impresora             Electrónicos  288900.00   \n",
              "1479  Auriculares con micrófono             Electrónicos  198900.00   \n",
              "395               Juego de mesa                 Juguetes  112600.00   \n",
              "1461                Auriculares             Electrónicos   72200.00   \n",
              "1233                 Microondas        Electrodomésticos  306900.00   \n",
              "2354               Set de ollas  Artículos para el hogar  140300.00   \n",
              "960                Lavavajillas        Electrodomésticos 1139600.00   \n",
              "204               TV LED UHD 4K             Electrónicos 2186000.00   \n",
              "\n",
              "      Costo de envío Fecha de Compra         Vendedor Lugar de Compra  \\\n",
              "583             0.00      10/06/2022   Juan Fernandez        Medellín   \n",
              "1467            0.00      04/10/2021   Juan Fernandez        Medellín   \n",
              "1182        13600.00      19/05/2022    Camila Rivera     Santa Marta   \n",
              "1479         8800.00      22/03/2020   Santiago Silva          Bogotá   \n",
              "395          4200.00      26/02/2022    Maria Alfonso        Medellín   \n",
              "1461         2000.00      16/03/2022    Rafael Acosta          Bogotá   \n",
              "1233        23700.00      01/05/2020    Camila Rivera    Barranquilla   \n",
              "2354         8100.00      04/12/2022  Ángel Rodriguez    Barranquilla   \n",
              "960         58900.00      15/08/2022    Juliana Costa          Bogotá   \n",
              "204        116800.00      23/12/2021    Juliana Costa          Bogotá   \n",
              "\n",
              "      Calificación      Método de pago  Cantidad de cuotas   lat    lon  \\\n",
              "583              2  Tarjeta de crédito                   4  6.25 -75.56   \n",
              "1467             5  Tarjeta de crédito                   1  6.25 -75.56   \n",
              "1182             4  Tarjeta de crédito                   3 11.24 -74.20   \n",
              "1479             4               Nequi                   1  4.61 -74.08   \n",
              "395              2  Tarjeta de crédito                   2  6.25 -75.56   \n",
              "1461             3  Tarjeta de crédito                   2  4.61 -74.08   \n",
              "1233             3  Tarjeta de crédito                   1 10.97 -74.78   \n",
              "2354             5  Tarjeta de crédito                   2 10.97 -74.78   \n",
              "960              5  Tarjeta de crédito                   1  4.61 -74.08   \n",
              "204              5  Tarjeta de crédito                   2  4.61 -74.08   \n",
              "\n",
              "     ID_Tienda  \n",
              "583   Tienda_1  \n",
              "1467  Tienda_3  \n",
              "1182  Tienda_3  \n",
              "1479  Tienda_3  \n",
              "395   Tienda_1  \n",
              "1461  Tienda_4  \n",
              "1233  Tienda_2  \n",
              "2354  Tienda_2  \n",
              "960   Tienda_2  \n",
              "204   Tienda_2  "
            ],
            "text/html": [
              "\n",
              "  <div id=\"df-e305efaa-69f6-4b46-acd5-43b8f51e97d3\" class=\"colab-df-container\">\n",
              "    <div>\n",
              "<style scoped>\n",
              "    .dataframe tbody tr th:only-of-type {\n",
              "        vertical-align: middle;\n",
              "    }\n",
              "\n",
              "    .dataframe tbody tr th {\n",
              "        vertical-align: top;\n",
              "    }\n",
              "\n",
              "    .dataframe thead th {\n",
              "        text-align: right;\n",
              "    }\n",
              "</style>\n",
              "<table border=\"1\" class=\"dataframe\">\n",
              "  <thead>\n",
              "    <tr style=\"text-align: right;\">\n",
              "      <th></th>\n",
              "      <th>Producto</th>\n",
              "      <th>Categoría del Producto</th>\n",
              "      <th>Precio</th>\n",
              "      <th>Costo de envío</th>\n",
              "      <th>Fecha de Compra</th>\n",
              "      <th>Vendedor</th>\n",
              "      <th>Lugar de Compra</th>\n",
              "      <th>Calificación</th>\n",
              "      <th>Método de pago</th>\n",
              "      <th>Cantidad de cuotas</th>\n",
              "      <th>lat</th>\n",
              "      <th>lon</th>\n",
              "      <th>ID_Tienda</th>\n",
              "    </tr>\n",
              "  </thead>\n",
              "  <tbody>\n",
              "    <tr>\n",
              "      <th>583</th>\n",
              "      <td>Cubertería</td>\n",
              "      <td>Artículos para el hogar</td>\n",
              "      <td>32500.00</td>\n",
              "      <td>0.00</td>\n",
              "      <td>10/06/2022</td>\n",
              "      <td>Juan Fernandez</td>\n",
              "      <td>Medellín</td>\n",
              "      <td>2</td>\n",
              "      <td>Tarjeta de crédito</td>\n",
              "      <td>4</td>\n",
              "      <td>6.25</td>\n",
              "      <td>-75.56</td>\n",
              "      <td>Tienda_1</td>\n",
              "    </tr>\n",
              "    <tr>\n",
              "      <th>1467</th>\n",
              "      <td>Dinosaurio Rex</td>\n",
              "      <td>Juguetes</td>\n",
              "      <td>17700.00</td>\n",
              "      <td>0.00</td>\n",
              "      <td>04/10/2021</td>\n",
              "      <td>Juan Fernandez</td>\n",
              "      <td>Medellín</td>\n",
              "      <td>5</td>\n",
              "      <td>Tarjeta de crédito</td>\n",
              "      <td>1</td>\n",
              "      <td>6.25</td>\n",
              "      <td>-75.56</td>\n",
              "      <td>Tienda_3</td>\n",
              "    </tr>\n",
              "    <tr>\n",
              "      <th>1182</th>\n",
              "      <td>Impresora</td>\n",
              "      <td>Electrónicos</td>\n",
              "      <td>288900.00</td>\n",
              "      <td>13600.00</td>\n",
              "      <td>19/05/2022</td>\n",
              "      <td>Camila Rivera</td>\n",
              "      <td>Santa Marta</td>\n",
              "      <td>4</td>\n",
              "      <td>Tarjeta de crédito</td>\n",
              "      <td>3</td>\n",
              "      <td>11.24</td>\n",
              "      <td>-74.20</td>\n",
              "      <td>Tienda_3</td>\n",
              "    </tr>\n",
              "    <tr>\n",
              "      <th>1479</th>\n",
              "      <td>Auriculares con micrófono</td>\n",
              "      <td>Electrónicos</td>\n",
              "      <td>198900.00</td>\n",
              "      <td>8800.00</td>\n",
              "      <td>22/03/2020</td>\n",
              "      <td>Santiago Silva</td>\n",
              "      <td>Bogotá</td>\n",
              "      <td>4</td>\n",
              "      <td>Nequi</td>\n",
              "      <td>1</td>\n",
              "      <td>4.61</td>\n",
              "      <td>-74.08</td>\n",
              "      <td>Tienda_3</td>\n",
              "    </tr>\n",
              "    <tr>\n",
              "      <th>395</th>\n",
              "      <td>Juego de mesa</td>\n",
              "      <td>Juguetes</td>\n",
              "      <td>112600.00</td>\n",
              "      <td>4200.00</td>\n",
              "      <td>26/02/2022</td>\n",
              "      <td>Maria Alfonso</td>\n",
              "      <td>Medellín</td>\n",
              "      <td>2</td>\n",
              "      <td>Tarjeta de crédito</td>\n",
              "      <td>2</td>\n",
              "      <td>6.25</td>\n",
              "      <td>-75.56</td>\n",
              "      <td>Tienda_1</td>\n",
              "    </tr>\n",
              "    <tr>\n",
              "      <th>1461</th>\n",
              "      <td>Auriculares</td>\n",
              "      <td>Electrónicos</td>\n",
              "      <td>72200.00</td>\n",
              "      <td>2000.00</td>\n",
              "      <td>16/03/2022</td>\n",
              "      <td>Rafael Acosta</td>\n",
              "      <td>Bogotá</td>\n",
              "      <td>3</td>\n",
              "      <td>Tarjeta de crédito</td>\n",
              "      <td>2</td>\n",
              "      <td>4.61</td>\n",
              "      <td>-74.08</td>\n",
              "      <td>Tienda_4</td>\n",
              "    </tr>\n",
              "    <tr>\n",
              "      <th>1233</th>\n",
              "      <td>Microondas</td>\n",
              "      <td>Electrodomésticos</td>\n",
              "      <td>306900.00</td>\n",
              "      <td>23700.00</td>\n",
              "      <td>01/05/2020</td>\n",
              "      <td>Camila Rivera</td>\n",
              "      <td>Barranquilla</td>\n",
              "      <td>3</td>\n",
              "      <td>Tarjeta de crédito</td>\n",
              "      <td>1</td>\n",
              "      <td>10.97</td>\n",
              "      <td>-74.78</td>\n",
              "      <td>Tienda_2</td>\n",
              "    </tr>\n",
              "    <tr>\n",
              "      <th>2354</th>\n",
              "      <td>Set de ollas</td>\n",
              "      <td>Artículos para el hogar</td>\n",
              "      <td>140300.00</td>\n",
              "      <td>8100.00</td>\n",
              "      <td>04/12/2022</td>\n",
              "      <td>Ángel Rodriguez</td>\n",
              "      <td>Barranquilla</td>\n",
              "      <td>5</td>\n",
              "      <td>Tarjeta de crédito</td>\n",
              "      <td>2</td>\n",
              "      <td>10.97</td>\n",
              "      <td>-74.78</td>\n",
              "      <td>Tienda_2</td>\n",
              "    </tr>\n",
              "    <tr>\n",
              "      <th>960</th>\n",
              "      <td>Lavavajillas</td>\n",
              "      <td>Electrodomésticos</td>\n",
              "      <td>1139600.00</td>\n",
              "      <td>58900.00</td>\n",
              "      <td>15/08/2022</td>\n",
              "      <td>Juliana Costa</td>\n",
              "      <td>Bogotá</td>\n",
              "      <td>5</td>\n",
              "      <td>Tarjeta de crédito</td>\n",
              "      <td>1</td>\n",
              "      <td>4.61</td>\n",
              "      <td>-74.08</td>\n",
              "      <td>Tienda_2</td>\n",
              "    </tr>\n",
              "    <tr>\n",
              "      <th>204</th>\n",
              "      <td>TV LED UHD 4K</td>\n",
              "      <td>Electrónicos</td>\n",
              "      <td>2186000.00</td>\n",
              "      <td>116800.00</td>\n",
              "      <td>23/12/2021</td>\n",
              "      <td>Juliana Costa</td>\n",
              "      <td>Bogotá</td>\n",
              "      <td>5</td>\n",
              "      <td>Tarjeta de crédito</td>\n",
              "      <td>2</td>\n",
              "      <td>4.61</td>\n",
              "      <td>-74.08</td>\n",
              "      <td>Tienda_2</td>\n",
              "    </tr>\n",
              "  </tbody>\n",
              "</table>\n",
              "</div>\n",
              "    <div class=\"colab-df-buttons\">\n",
              "\n",
              "  <div class=\"colab-df-container\">\n",
              "    <button class=\"colab-df-convert\" onclick=\"convertToInteractive('df-e305efaa-69f6-4b46-acd5-43b8f51e97d3')\"\n",
              "            title=\"Convert this dataframe to an interactive table.\"\n",
              "            style=\"display:none;\">\n",
              "\n",
              "  <svg xmlns=\"http://www.w3.org/2000/svg\" height=\"24px\" viewBox=\"0 -960 960 960\">\n",
              "    <path d=\"M120-120v-720h720v720H120Zm60-500h600v-160H180v160Zm220 220h160v-160H400v160Zm0 220h160v-160H400v160ZM180-400h160v-160H180v160Zm440 0h160v-160H620v160ZM180-180h160v-160H180v160Zm440 0h160v-160H620v160Z\"/>\n",
              "  </svg>\n",
              "    </button>\n",
              "\n",
              "  <style>\n",
              "    .colab-df-container {\n",
              "      display:flex;\n",
              "      gap: 12px;\n",
              "    }\n",
              "\n",
              "    .colab-df-convert {\n",
              "      background-color: #E8F0FE;\n",
              "      border: none;\n",
              "      border-radius: 50%;\n",
              "      cursor: pointer;\n",
              "      display: none;\n",
              "      fill: #1967D2;\n",
              "      height: 32px;\n",
              "      padding: 0 0 0 0;\n",
              "      width: 32px;\n",
              "    }\n",
              "\n",
              "    .colab-df-convert:hover {\n",
              "      background-color: #E2EBFA;\n",
              "      box-shadow: 0px 1px 2px rgba(60, 64, 67, 0.3), 0px 1px 3px 1px rgba(60, 64, 67, 0.15);\n",
              "      fill: #174EA6;\n",
              "    }\n",
              "\n",
              "    .colab-df-buttons div {\n",
              "      margin-bottom: 4px;\n",
              "    }\n",
              "\n",
              "    [theme=dark] .colab-df-convert {\n",
              "      background-color: #3B4455;\n",
              "      fill: #D2E3FC;\n",
              "    }\n",
              "\n",
              "    [theme=dark] .colab-df-convert:hover {\n",
              "      background-color: #434B5C;\n",
              "      box-shadow: 0px 1px 3px 1px rgba(0, 0, 0, 0.15);\n",
              "      filter: drop-shadow(0px 1px 2px rgba(0, 0, 0, 0.3));\n",
              "      fill: #FFFFFF;\n",
              "    }\n",
              "  </style>\n",
              "\n",
              "    <script>\n",
              "      const buttonEl =\n",
              "        document.querySelector('#df-e305efaa-69f6-4b46-acd5-43b8f51e97d3 button.colab-df-convert');\n",
              "      buttonEl.style.display =\n",
              "        google.colab.kernel.accessAllowed ? 'block' : 'none';\n",
              "\n",
              "      async function convertToInteractive(key) {\n",
              "        const element = document.querySelector('#df-e305efaa-69f6-4b46-acd5-43b8f51e97d3');\n",
              "        const dataTable =\n",
              "          await google.colab.kernel.invokeFunction('convertToInteractive',\n",
              "                                                    [key], {});\n",
              "        if (!dataTable) return;\n",
              "\n",
              "        const docLinkHtml = 'Like what you see? Visit the ' +\n",
              "          '<a target=\"_blank\" href=https://colab.research.google.com/notebooks/data_table.ipynb>data table notebook</a>'\n",
              "          + ' to learn more about interactive tables.';\n",
              "        element.innerHTML = '';\n",
              "        dataTable['output_type'] = 'display_data';\n",
              "        await google.colab.output.renderOutput(dataTable, element);\n",
              "        const docLink = document.createElement('div');\n",
              "        docLink.innerHTML = docLinkHtml;\n",
              "        element.appendChild(docLink);\n",
              "      }\n",
              "    </script>\n",
              "  </div>\n",
              "\n",
              "\n",
              "    <div id=\"df-6427a3f6-f5ee-4c9e-8f98-46cb0788a3cf\">\n",
              "      <button class=\"colab-df-quickchart\" onclick=\"quickchart('df-6427a3f6-f5ee-4c9e-8f98-46cb0788a3cf')\"\n",
              "                title=\"Suggest charts\"\n",
              "                style=\"display:none;\">\n",
              "\n",
              "<svg xmlns=\"http://www.w3.org/2000/svg\" height=\"24px\"viewBox=\"0 0 24 24\"\n",
              "     width=\"24px\">\n",
              "    <g>\n",
              "        <path d=\"M19 3H5c-1.1 0-2 .9-2 2v14c0 1.1.9 2 2 2h14c1.1 0 2-.9 2-2V5c0-1.1-.9-2-2-2zM9 17H7v-7h2v7zm4 0h-2V7h2v10zm4 0h-2v-4h2v4z\"/>\n",
              "    </g>\n",
              "</svg>\n",
              "      </button>\n",
              "\n",
              "<style>\n",
              "  .colab-df-quickchart {\n",
              "      --bg-color: #E8F0FE;\n",
              "      --fill-color: #1967D2;\n",
              "      --hover-bg-color: #E2EBFA;\n",
              "      --hover-fill-color: #174EA6;\n",
              "      --disabled-fill-color: #AAA;\n",
              "      --disabled-bg-color: #DDD;\n",
              "  }\n",
              "\n",
              "  [theme=dark] .colab-df-quickchart {\n",
              "      --bg-color: #3B4455;\n",
              "      --fill-color: #D2E3FC;\n",
              "      --hover-bg-color: #434B5C;\n",
              "      --hover-fill-color: #FFFFFF;\n",
              "      --disabled-bg-color: #3B4455;\n",
              "      --disabled-fill-color: #666;\n",
              "  }\n",
              "\n",
              "  .colab-df-quickchart {\n",
              "    background-color: var(--bg-color);\n",
              "    border: none;\n",
              "    border-radius: 50%;\n",
              "    cursor: pointer;\n",
              "    display: none;\n",
              "    fill: var(--fill-color);\n",
              "    height: 32px;\n",
              "    padding: 0;\n",
              "    width: 32px;\n",
              "  }\n",
              "\n",
              "  .colab-df-quickchart:hover {\n",
              "    background-color: var(--hover-bg-color);\n",
              "    box-shadow: 0 1px 2px rgba(60, 64, 67, 0.3), 0 1px 3px 1px rgba(60, 64, 67, 0.15);\n",
              "    fill: var(--button-hover-fill-color);\n",
              "  }\n",
              "\n",
              "  .colab-df-quickchart-complete:disabled,\n",
              "  .colab-df-quickchart-complete:disabled:hover {\n",
              "    background-color: var(--disabled-bg-color);\n",
              "    fill: var(--disabled-fill-color);\n",
              "    box-shadow: none;\n",
              "  }\n",
              "\n",
              "  .colab-df-spinner {\n",
              "    border: 2px solid var(--fill-color);\n",
              "    border-color: transparent;\n",
              "    border-bottom-color: var(--fill-color);\n",
              "    animation:\n",
              "      spin 1s steps(1) infinite;\n",
              "  }\n",
              "\n",
              "  @keyframes spin {\n",
              "    0% {\n",
              "      border-color: transparent;\n",
              "      border-bottom-color: var(--fill-color);\n",
              "      border-left-color: var(--fill-color);\n",
              "    }\n",
              "    20% {\n",
              "      border-color: transparent;\n",
              "      border-left-color: var(--fill-color);\n",
              "      border-top-color: var(--fill-color);\n",
              "    }\n",
              "    30% {\n",
              "      border-color: transparent;\n",
              "      border-left-color: var(--fill-color);\n",
              "      border-top-color: var(--fill-color);\n",
              "      border-right-color: var(--fill-color);\n",
              "    }\n",
              "    40% {\n",
              "      border-color: transparent;\n",
              "      border-right-color: var(--fill-color);\n",
              "      border-top-color: var(--fill-color);\n",
              "    }\n",
              "    60% {\n",
              "      border-color: transparent;\n",
              "      border-right-color: var(--fill-color);\n",
              "    }\n",
              "    80% {\n",
              "      border-color: transparent;\n",
              "      border-right-color: var(--fill-color);\n",
              "      border-bottom-color: var(--fill-color);\n",
              "    }\n",
              "    90% {\n",
              "      border-color: transparent;\n",
              "      border-bottom-color: var(--fill-color);\n",
              "    }\n",
              "  }\n",
              "</style>\n",
              "\n",
              "      <script>\n",
              "        async function quickchart(key) {\n",
              "          const quickchartButtonEl =\n",
              "            document.querySelector('#' + key + ' button');\n",
              "          quickchartButtonEl.disabled = true;  // To prevent multiple clicks.\n",
              "          quickchartButtonEl.classList.add('colab-df-spinner');\n",
              "          try {\n",
              "            const charts = await google.colab.kernel.invokeFunction(\n",
              "                'suggestCharts', [key], {});\n",
              "          } catch (error) {\n",
              "            console.error('Error during call to suggestCharts:', error);\n",
              "          }\n",
              "          quickchartButtonEl.classList.remove('colab-df-spinner');\n",
              "          quickchartButtonEl.classList.add('colab-df-quickchart-complete');\n",
              "        }\n",
              "        (() => {\n",
              "          let quickchartButtonEl =\n",
              "            document.querySelector('#df-6427a3f6-f5ee-4c9e-8f98-46cb0788a3cf button');\n",
              "          quickchartButtonEl.style.display =\n",
              "            google.colab.kernel.accessAllowed ? 'block' : 'none';\n",
              "        })();\n",
              "      </script>\n",
              "    </div>\n",
              "\n",
              "    </div>\n",
              "  </div>\n"
            ],
            "application/vnd.google.colaboratory.intrinsic+json": {
              "type": "dataframe",
              "summary": "{\n  \"name\": \"tiendas\",\n  \"rows\": 10,\n  \"fields\": [\n    {\n      \"column\": \"Producto\",\n      \"properties\": {\n        \"dtype\": \"string\",\n        \"num_unique_values\": 10,\n        \"samples\": [\n          \"Lavavajillas\",\n          \"Dinosaurio Rex\",\n          \"Auriculares\"\n        ],\n        \"semantic_type\": \"\",\n        \"description\": \"\"\n      }\n    },\n    {\n      \"column\": \"Categor\\u00eda del Producto\",\n      \"properties\": {\n        \"dtype\": \"category\",\n        \"num_unique_values\": 4,\n        \"samples\": [\n          \"Juguetes\",\n          \"Electrodom\\u00e9sticos\",\n          \"Art\\u00edculos para el hogar\"\n        ],\n        \"semantic_type\": \"\",\n        \"description\": \"\"\n      }\n    },\n    {\n      \"column\": \"Precio\",\n      \"properties\": {\n        \"dtype\": \"number\",\n        \"std\": 692210.5880598925,\n        \"min\": 17700.0,\n        \"max\": 2186000.0,\n        \"num_unique_values\": 10,\n        \"samples\": [\n          1139600.0,\n          17700.0,\n          72200.0\n        ],\n        \"semantic_type\": \"\",\n        \"description\": \"\"\n      }\n    },\n    {\n      \"column\": \"Costo de env\\u00edo\",\n      \"properties\": {\n        \"dtype\": \"number\",\n        \"std\": 37190.90241204457,\n        \"min\": 0.0,\n        \"max\": 116800.0,\n        \"num_unique_values\": 9,\n        \"samples\": [\n          58900.0,\n          13600.0,\n          23700.0\n        ],\n        \"semantic_type\": \"\",\n        \"description\": \"\"\n      }\n    },\n    {\n      \"column\": \"Fecha de Compra\",\n      \"properties\": {\n        \"dtype\": \"string\",\n        \"num_unique_values\": 10,\n        \"samples\": [\n          \"15/08/2022\",\n          \"04/10/2021\",\n          \"16/03/2022\"\n        ],\n        \"semantic_type\": \"\",\n        \"description\": \"\"\n      }\n    },\n    {\n      \"column\": \"Vendedor\",\n      \"properties\": {\n        \"dtype\": \"string\",\n        \"num_unique_values\": 7,\n        \"samples\": [\n          \"Juan Fernandez\",\n          \"Camila Rivera\",\n          \"\\u00c1ngel Rodriguez\"\n        ],\n        \"semantic_type\": \"\",\n        \"description\": \"\"\n      }\n    },\n    {\n      \"column\": \"Lugar de Compra\",\n      \"properties\": {\n        \"dtype\": \"category\",\n        \"num_unique_values\": 4,\n        \"samples\": [\n          \"Santa Marta\",\n          \"Barranquilla\",\n          \"Medell\\u00edn\"\n        ],\n        \"semantic_type\": \"\",\n        \"description\": \"\"\n      }\n    },\n    {\n      \"column\": \"Calificaci\\u00f3n\",\n      \"properties\": {\n        \"dtype\": \"number\",\n        \"std\": 1,\n        \"min\": 2,\n        \"max\": 5,\n        \"num_unique_values\": 4,\n        \"samples\": [\n          5,\n          3,\n          2\n        ],\n        \"semantic_type\": \"\",\n        \"description\": \"\"\n      }\n    },\n    {\n      \"column\": \"M\\u00e9todo de pago\",\n      \"properties\": {\n        \"dtype\": \"category\",\n        \"num_unique_values\": 2,\n        \"samples\": [\n          \"Nequi\",\n          \"Tarjeta de cr\\u00e9dito\"\n        ],\n        \"semantic_type\": \"\",\n        \"description\": \"\"\n      }\n    },\n    {\n      \"column\": \"Cantidad de cuotas\",\n      \"properties\": {\n        \"dtype\": \"number\",\n        \"std\": 0,\n        \"min\": 1,\n        \"max\": 4,\n        \"num_unique_values\": 4,\n        \"samples\": [\n          1,\n          2\n        ],\n        \"semantic_type\": \"\",\n        \"description\": \"\"\n      }\n    },\n    {\n      \"column\": \"lat\",\n      \"properties\": {\n        \"dtype\": \"number\",\n        \"std\": 2.867485136321257,\n        \"min\": 4.60971,\n        \"max\": 11.24079,\n        \"num_unique_values\": 4,\n        \"samples\": [\n          11.24079,\n          10.96854\n        ],\n        \"semantic_type\": \"\",\n        \"description\": \"\"\n      }\n    },\n    {\n      \"column\": \"lon\",\n      \"properties\": {\n        \"dtype\": \"number\",\n        \"std\": 0.6687980836670138,\n        \"min\": -75.56359,\n        \"max\": -74.08175,\n        \"num_unique_values\": 4,\n        \"samples\": [\n          -74.19904,\n          -74.78132\n        ],\n        \"semantic_type\": \"\",\n        \"description\": \"\"\n      }\n    },\n    {\n      \"column\": \"ID_Tienda\",\n      \"properties\": {\n        \"dtype\": \"category\",\n        \"num_unique_values\": 4,\n        \"samples\": [\n          \"Tienda_3\",\n          \"Tienda_2\"\n        ],\n        \"semantic_type\": \"\",\n        \"description\": \"\"\n      }\n    }\n  ]\n}"
            }
          },
          "metadata": {},
          "execution_count": 47
        }
      ]
    },
    {
      "cell_type": "markdown",
      "source": [
        "#1. Análisis de facturación\n",
        "\n"
      ],
      "metadata": {
        "id": "X62IW3KFUIYm"
      }
    },
    {
      "cell_type": "code",
      "source": [
        "tiendas.info()"
      ],
      "metadata": {
        "id": "xykobSftV64I",
        "colab": {
          "base_uri": "https://localhost:8080/"
        },
        "outputId": "201d397a-3fb5-4a95-d545-057c101233de"
      },
      "execution_count": 48,
      "outputs": [
        {
          "output_type": "stream",
          "name": "stdout",
          "text": [
            "<class 'pandas.core.frame.DataFrame'>\n",
            "Index: 9435 entries, 0 to 2357\n",
            "Data columns (total 13 columns):\n",
            " #   Column                  Non-Null Count  Dtype  \n",
            "---  ------                  --------------  -----  \n",
            " 0   Producto                9435 non-null   object \n",
            " 1   Categoría del Producto  9435 non-null   object \n",
            " 2   Precio                  9435 non-null   float64\n",
            " 3   Costo de envío          9435 non-null   float64\n",
            " 4   Fecha de Compra         9435 non-null   object \n",
            " 5   Vendedor                9435 non-null   object \n",
            " 6   Lugar de Compra         9435 non-null   object \n",
            " 7   Calificación            9435 non-null   int64  \n",
            " 8   Método de pago          9435 non-null   object \n",
            " 9   Cantidad de cuotas      9435 non-null   int64  \n",
            " 10  lat                     9435 non-null   float64\n",
            " 11  lon                     9435 non-null   float64\n",
            " 12  ID_Tienda               9435 non-null   object \n",
            "dtypes: float64(4), int64(2), object(7)\n",
            "memory usage: 1.0+ MB\n"
          ]
        }
      ]
    },
    {
      "cell_type": "code",
      "source": [
        "ingreso_total = tiendas.groupby('ID_Tienda')['Precio'].sum().reset_index()\n",
        "print(ingreso_total)"
      ],
      "metadata": {
        "colab": {
          "base_uri": "https://localhost:8080/"
        },
        "id": "MnSEsHfpjxe4",
        "outputId": "37b5d8c0-773e-4f3d-d8e6-0fa285120697"
      },
      "execution_count": 49,
      "outputs": [
        {
          "output_type": "stream",
          "name": "stdout",
          "text": [
            "  ID_Tienda        Precio\n",
            "0  Tienda_1 1150880400.00\n",
            "1  Tienda_2 1116343500.00\n",
            "2  Tienda_3 1098019600.00\n",
            "3  Tienda_4 1038375700.00\n"
          ]
        }
      ]
    },
    {
      "cell_type": "markdown",
      "source": [
        "# 2. Ventas por categoría\n",
        "\n"
      ],
      "metadata": {
        "id": "2V_vcAPzWZmR"
      }
    },
    {
      "cell_type": "code",
      "source": [
        "ventas_categoria = tiendas.groupby('Categoría del Producto')[\"Precio\"].sum()\n",
        "print(ventas_categoria)"
      ],
      "metadata": {
        "id": "A34YupIuYhfF",
        "colab": {
          "base_uri": "https://localhost:8080/"
        },
        "outputId": "2a3d556f-5f88-4861-95c6-abe171450ccb"
      },
      "execution_count": 50,
      "outputs": [
        {
          "output_type": "stream",
          "name": "stdout",
          "text": [
            "Categoría del Producto\n",
            "Artículos para el hogar     57579800.00\n",
            "Deportes y diversión       142977700.00\n",
            "Electrodomésticos         1324751100.00\n",
            "Electrónicos              1660576500.00\n",
            "Instrumentos musicales     348772600.00\n",
            "Juguetes                    73604400.00\n",
            "Libros                      37696100.00\n",
            "Muebles                    757661000.00\n",
            "Name: Precio, dtype: float64\n"
          ]
        }
      ]
    },
    {
      "cell_type": "code",
      "source": [
        "ventas_categoria = tiendas.groupby(['Categoría del Producto', 'ID_Tienda'])[\"Precio\"].count()\n",
        "print(ventas_categoria)"
      ],
      "metadata": {
        "id": "yZR6cOjXYSk1",
        "colab": {
          "base_uri": "https://localhost:8080/"
        },
        "outputId": "85d36a74-1d69-4fd8-eb6c-3ce7f6681ada"
      },
      "execution_count": 51,
      "outputs": [
        {
          "output_type": "stream",
          "name": "stdout",
          "text": [
            "Categoría del Producto   ID_Tienda\n",
            "Artículos para el hogar  Tienda_1     171\n",
            "                         Tienda_2     181\n",
            "                         Tienda_3     177\n",
            "                         Tienda_4     201\n",
            "Deportes y diversión     Tienda_1     284\n",
            "                         Tienda_2     275\n",
            "                         Tienda_3     277\n",
            "                         Tienda_4     277\n",
            "Electrodomésticos        Tienda_1     312\n",
            "                         Tienda_2     305\n",
            "                         Tienda_3     278\n",
            "                         Tienda_4     254\n",
            "Electrónicos             Tienda_1     448\n",
            "                         Tienda_2     422\n",
            "                         Tienda_3     451\n",
            "                         Tienda_4     451\n",
            "Instrumentos musicales   Tienda_1     182\n",
            "                         Tienda_2     224\n",
            "                         Tienda_3     177\n",
            "                         Tienda_4     170\n",
            "Juguetes                 Tienda_1     324\n",
            "                         Tienda_2     313\n",
            "                         Tienda_3     315\n",
            "                         Tienda_4     338\n",
            "Libros                   Tienda_1     173\n",
            "                         Tienda_2     197\n",
            "                         Tienda_3     185\n",
            "                         Tienda_4     187\n",
            "Muebles                  Tienda_1     465\n",
            "                         Tienda_2     442\n",
            "                         Tienda_3     499\n",
            "                         Tienda_4     480\n",
            "Name: Precio, dtype: int64\n"
          ]
        }
      ]
    },
    {
      "cell_type": "code",
      "source": [
        "ventas_ordenadas = ventas_categoria.reset_index().rename(columns={'Precio': 'Cantidad_Vendida'})"
      ],
      "metadata": {
        "id": "gsGHLN6mgvcT"
      },
      "execution_count": 52,
      "outputs": []
    },
    {
      "cell_type": "code",
      "source": [
        "top_general_ordenado = ventas_ordenadas.sort_values(by='Cantidad_Vendida', ascending=False)"
      ],
      "metadata": {
        "id": "BW7w03F3hIMj"
      },
      "execution_count": 53,
      "outputs": []
    },
    {
      "cell_type": "code",
      "source": [
        "ventas_por_categoria = (\n",
        "    tiendas.groupby(['ID_Tienda', 'Categoría del Producto'])['Precio']\n",
        "    .count() # 1. Agregación: Cuenta la cantidad de ventas por cada grupo\n",
        "    .reset_index() # 2. Limpieza: Convierte el índice múltiple en columnas\n",
        "    .rename(columns={'Precio': 'Cantidad_Vendida'}) # 3. Renombramiento: Clarifica la columna de conteo\n",
        "    .sort_values(by='Cantidad_Vendida', ascending=False) # 4. Ordenamiento: Ordena de mayor a menor\n",
        ")"
      ],
      "metadata": {
        "id": "qAxQeY3gidkZ"
      },
      "execution_count": 54,
      "outputs": []
    },
    {
      "cell_type": "code",
      "source": [
        "top_3_por_tienda = ventas_por_categoria.groupby('ID_Tienda').head(3)\n",
        "\n",
        "print(\"Top 3 de Categorías Más Vendidas en Cada Tienda:\")\n",
        "print(top_3_por_tienda)"
      ],
      "metadata": {
        "colab": {
          "base_uri": "https://localhost:8080/"
        },
        "id": "GwZbtnf9i5iR",
        "outputId": "5622fcc7-bf7e-4991-bec9-ce51b2500895"
      },
      "execution_count": 55,
      "outputs": [
        {
          "output_type": "stream",
          "name": "stdout",
          "text": [
            "Top 3 de Categorías Más Vendidas en Cada Tienda:\n",
            "   ID_Tienda Categoría del Producto  Cantidad_Vendida\n",
            "23  Tienda_3                Muebles               499\n",
            "31  Tienda_4                Muebles               480\n",
            "7   Tienda_1                Muebles               465\n",
            "27  Tienda_4           Electrónicos               451\n",
            "19  Tienda_3           Electrónicos               451\n",
            "3   Tienda_1           Electrónicos               448\n",
            "15  Tienda_2                Muebles               442\n",
            "11  Tienda_2           Electrónicos               422\n",
            "29  Tienda_4               Juguetes               338\n",
            "5   Tienda_1               Juguetes               324\n",
            "21  Tienda_3               Juguetes               315\n",
            "13  Tienda_2               Juguetes               313\n"
          ]
        }
      ]
    },
    {
      "cell_type": "markdown",
      "source": [
        "# 3. Calificación promedio de la tienda\n"
      ],
      "metadata": {
        "id": "Rq6tU_xSY3jk"
      }
    },
    {
      "cell_type": "code",
      "source": [
        "calificacion_promedio = tiendas.groupby('ID_Tienda')['Calificación'].mean().reset_index()"
      ],
      "metadata": {
        "id": "bh3jjjJwY5MU"
      },
      "execution_count": 56,
      "outputs": []
    },
    {
      "cell_type": "code",
      "source": [
        "print(\"Calificación Promedio por Tienda:\")\n",
        "print(calificacion_promedio)"
      ],
      "metadata": {
        "id": "I0KkjPoTY88F",
        "colab": {
          "base_uri": "https://localhost:8080/"
        },
        "outputId": "e85637fb-a772-4317-dd79-a185ebe35a3f"
      },
      "execution_count": 57,
      "outputs": [
        {
          "output_type": "stream",
          "name": "stdout",
          "text": [
            "Calificación Promedio por Tienda:\n",
            "  ID_Tienda  Calificación\n",
            "0  Tienda_1          3.98\n",
            "1  Tienda_2          4.04\n",
            "2  Tienda_3          4.05\n",
            "3  Tienda_4          4.00\n"
          ]
        }
      ]
    },
    {
      "cell_type": "markdown",
      "source": [
        "# 4. Productos más y menos vendidos"
      ],
      "metadata": {
        "id": "DmNp1KPBZCm-"
      }
    },
    {
      "cell_type": "code",
      "source": [
        "productos_vendidos = (\n",
        "    tiendas.groupby(['ID_Tienda', 'Producto'])['Precio']\n",
        "    .count()  # 1. Agregación: Cuenta la cantidad de ventas por producto\n",
        "    .reset_index()  # 2. Limpieza: Convierte el índice múltiple en columnas\n",
        "    .rename(columns={'Precio': 'Cantidad_Vendida'})  # 3. Renombramiento\n",
        "    .sort_values(by='Cantidad_Vendida', ascending=False)  # 4. Ordenamiento: MÁS vendidos arriba\n",
        ")"
      ],
      "metadata": {
        "id": "qoyjqijQZHfF"
      },
      "execution_count": 68,
      "outputs": []
    },
    {
      "cell_type": "code",
      "source": [
        "top_5_orden_tienda = (\n",
        "    productos_vendidos\n",
        "    # 1. Aplicamos el sort_values con una LISTA de columnas:\n",
        "    .sort_values(\n",
        "        by=['ID_Tienda', 'Cantidad_Vendida'], # Primero ordena por Tienda, luego por Cantidad\n",
        "        ascending=[True, False]               # Tienda: A-Z (Ascendente). Cantidad: Mayor a menor (Descendente).\n",
        "    )\n",
        "    # 2. Aplicamos el Top 5 a cada grupo (Tienda)\n",
        "    .groupby('ID_Tienda')\n",
        "    .head(5)\n",
        ")"
      ],
      "metadata": {
        "id": "JO2tsvKMlhUZ"
      },
      "execution_count": 69,
      "outputs": []
    },
    {
      "cell_type": "code",
      "source": [
        "print(\"Top 5 Productos MÁS Vendidos (Ordenado por Tienda):\")\n",
        "print(top_5_orden_tienda)"
      ],
      "metadata": {
        "colab": {
          "base_uri": "https://localhost:8080/"
        },
        "id": "4Q7SdwN4k2Oi",
        "outputId": "518acc8e-80a1-4665-857a-cfa5f893b29e"
      },
      "execution_count": 70,
      "outputs": [
        {
          "output_type": "stream",
          "name": "stdout",
          "text": [
            "Top 5 Productos MÁS Vendidos (Ordenado por Tienda):\n",
            "    ID_Tienda                   Producto  Cantidad_Vendida\n",
            "48   Tienda_1              TV LED UHD 4K                60\n",
            "33   Tienda_1                 Microondas                60\n",
            "1    Tienda_1                    Armario                60\n",
            "40   Tienda_1           Secadora de ropa                58\n",
            "32   Tienda_1              Mesa de noche                56\n",
            "75   Tienda_2  Iniciando en programación                65\n",
            "84   Tienda_2                 Microondas                62\n",
            "58   Tienda_2                    Batería                61\n",
            "89   Tienda_2                  Pandereta                58\n",
            "72   Tienda_2          Guitarra acústica                58\n",
            "129  Tienda_3              Kit de bancas                57\n",
            "113  Tienda_3                  Cama king                56\n",
            "133  Tienda_3            Mesa de comedor                56\n",
            "134  Tienda_3              Mesa de noche                55\n",
            "143  Tienda_3               Set de ollas                55\n",
            "163  Tienda_4                   Cama box                62\n",
            "168  Tienda_4                 Cubertería                59\n",
            "164  Tienda_4                  Cama king                56\n",
            "171  Tienda_4    Dashboards con Power BI                56\n",
            "165  Tienda_4  Carrito de control remoto                55\n"
          ]
        }
      ]
    },
    {
      "cell_type": "code",
      "source": [
        "top_5_orden_tienda = (\n",
        "    productos_vendidos\n",
        "    # 1. Aplicamos el sort_values con una LISTA de columnas:\n",
        "    .sort_values(\n",
        "        by=['ID_Tienda', 'Cantidad_Vendida'], # Primero ordena por Tienda, luego por Cantidad\n",
        "        ascending=[True, False]               # Tienda: A-Z (Ascendente). Cantidad: Mayor a menor (Descendente).\n",
        "    )\n",
        "    # 2. Aplicamos el Top 5 a cada grupo (Tienda)\n",
        "    .groupby('ID_Tienda')\n",
        "    .tail(5)\n",
        ")"
      ],
      "metadata": {
        "id": "kV-PnMuolA-5"
      },
      "execution_count": 71,
      "outputs": []
    },
    {
      "cell_type": "code",
      "source": [
        "print(\"Top 5 Productos MENOS Vendidos (Ordenado por Tienda):\")\n",
        "print(top_5_orden_tienda)"
      ],
      "metadata": {
        "colab": {
          "base_uri": "https://localhost:8080/"
        },
        "id": "Zx1HL1EamGbo",
        "outputId": "04812d1a-5ae6-442d-85cd-f36bf11688aa"
      },
      "execution_count": 72,
      "outputs": [
        {
          "output_type": "stream",
          "name": "stdout",
          "text": [
            "Top 5 Productos MENOS Vendidos (Ordenado por Tienda):\n",
            "    ID_Tienda                     Producto  Cantidad_Vendida\n",
            "14   Tienda_1  Ciencia de datos con Python                39\n",
            "38   Tienda_1                    Pandereta                36\n",
            "37   Tienda_1              Olla de presión                35\n",
            "13   Tienda_1                 Celular ABXY                33\n",
            "4    Tienda_1    Auriculares con micrófono                33\n",
            "54   Tienda_2                  Auriculares                37\n",
            "95   Tienda_2                       Sillón                35\n",
            "74   Tienda_2                    Impresora                34\n",
            "82   Tienda_2              Mesa de comedor                34\n",
            "77   Tienda_2                Juego de mesa                32\n",
            "152  Tienda_3                 Vaso térmico                38\n",
            "135  Tienda_3                   Microondas                36\n",
            "136  Tienda_3                      Mochila                36\n",
            "144  Tienda_3                 Set de vasos                36\n",
            "111  Tienda_3      Bloques de construcción                35\n",
            "181  Tienda_4             Lavadora de ropa                38\n",
            "192  Tienda_4                 Refrigerador                38\n",
            "174  Tienda_4            Guitarra acústica                37\n",
            "154  Tienda_4                      Armario                34\n",
            "175  Tienda_4           Guitarra eléctrica                33\n"
          ]
        }
      ]
    },
    {
      "cell_type": "markdown",
      "source": [
        "# 5. Envío promedio por tienda"
      ],
      "metadata": {
        "id": "Fl0cGi3bZKqU"
      }
    },
    {
      "cell_type": "code",
      "source": [
        "costo_envio_promedio = tiendas.groupby('ID_Tienda')['Costo de envío'].mean().reset_index()"
      ],
      "metadata": {
        "id": "S2JeaCykZNy9"
      },
      "execution_count": 74,
      "outputs": []
    },
    {
      "cell_type": "code",
      "source": [
        "print(\"Costo de Envío Promedio por Tienda:\")\n",
        "print(costo_envio_promedio)"
      ],
      "metadata": {
        "id": "0tSdCie9ZQlt",
        "colab": {
          "base_uri": "https://localhost:8080/"
        },
        "outputId": "3ccebbf1-09e8-4613-9fb1-1e135b169008"
      },
      "execution_count": 75,
      "outputs": [
        {
          "output_type": "stream",
          "name": "stdout",
          "text": [
            "Costo de Envío Promedio por Tienda:\n",
            "  ID_Tienda  Costo de envío\n",
            "0  Tienda_1        26018.61\n",
            "1  Tienda_2        25216.24\n",
            "2  Tienda_3        24805.68\n",
            "3  Tienda_4        23459.46\n"
          ]
        }
      ]
    },
    {
      "cell_type": "markdown",
      "source": [
        "#6 . Generando graficos"
      ],
      "metadata": {
        "id": "_yPv-UTlm7vy"
      }
    },
    {
      "cell_type": "code",
      "source": [
        "import matplotlib.pyplot as plt"
      ],
      "metadata": {
        "id": "Wue6ZuA9nupH"
      },
      "execution_count": 77,
      "outputs": []
    },
    {
      "cell_type": "markdown",
      "source": [
        "**6.1. Gráfico de Barras: Ingreso Total (Métrica Clave de Venta)**"
      ],
      "metadata": {
        "id": "ZjqllEPXnTh_"
      }
    },
    {
      "cell_type": "code",
      "source": [
        "plt.figure(figsize=(9, 6))\n",
        "# Gráfico de Barras\n",
        "plt.bar(ingreso_total['ID_Tienda'], ingreso_total['Precio'], color=['#4CAF50', '#FFC107', '#2196F3', '#F44336'])\n",
        "plt.ticklabel_format(style='plain', axis='y')\n",
        "plt.title('1. Ingreso Total Generado por Cada Tienda', fontsize=16)\n",
        "plt.xlabel('ID de Tienda', fontsize=12)\n",
        "plt.ylabel('Ingresos Totales (pesos)', fontsize=12)\n",
        "plt.grid(axis='y', linestyle='--', alpha=0.7)\n",
        "# Resaltamos con una línea la Tienda 4\n",
        "plt.axvline(x=3, color='red', linestyle='--', linewidth=2, label='Tienda 4 (Menor Ingreso)')\n",
        "plt.legend()\n",
        "plt.show()"
      ],
      "metadata": {
        "colab": {
          "base_uri": "https://localhost:8080/",
          "height": 570
        },
        "id": "m5cTfMk5ni-p",
        "outputId": "2909d4ee-9313-4ba6-f754-1f366f450346"
      },
      "execution_count": 86,
      "outputs": [
        {
          "output_type": "display_data",
          "data": {
            "text/plain": [
              "<Figure size 900x600 with 1 Axes>"
            ],
            "image/png": "[encoded data removed]"
          },
          "metadata": {}
        }
      ]
    },
    {
      "cell_type": "markdown",
      "source": [
        "**6.2. Gráfico de Barras: Calificación Promedio (Métrica de Calidad)**"
      ],
      "metadata": {
        "id": "3AE71V2ZnY7Q"
      }
    },
    {
      "cell_type": "code",
      "source": [
        "# Recalculamos la tabla de calificación (Métrica 3) para el gráfico\n",
        "calificacion_promedio = tiendas.groupby('ID_Tienda')['Calificación'].mean().reset_index()\n",
        "\n",
        "plt.figure(figsize=(9, 6))\n",
        "\n",
        "# Gráfico de Barras Horizontales (barh)\n",
        "plt.barh(\n",
        "    calificacion_promedio['ID_Tienda'],  # Eje Y: ID de Tienda (las categorías)\n",
        "    calificacion_promedio['Calificación'], # Eje X: Calificación (los valores)\n",
        "    color=['#4CAF50', '#FFC107', '#2196F3', '#F44336']\n",
        ")\n",
        "\n",
        "# Personalización (Ejes invertidos respecto al Gráfico 1)\n",
        "plt.title('2. Calificación Promedio de Clientes (Satisfacción)', fontsize=16)\n",
        "plt.ylabel('ID de Tienda', fontsize=12)\n",
        "plt.xlabel('Calificación Promedio (Escala 1-5)', fontsize=12)\n",
        "\n",
        "# Añadimos la línea vertical para el umbral de 'bueno' (4.0)\n",
        "plt.axvline(x=4.0, color='gray', linestyle='--', linewidth=1, alpha=0.7, label='Umbral de 4.0')\n",
        "plt.xlim(3.8, 4.1) # Ajusta el límite del eje X para exagerar la pequeña diferencia\n",
        "plt.legend()\n",
        "plt.grid(axis='x', linestyle=':', alpha=0.5)\n",
        "plt.show()"
      ],
      "metadata": {
        "colab": {
          "base_uri": "https://localhost:8080/",
          "height": 571
        },
        "id": "WLBUQGj1njbn",
        "outputId": "7aac9d62-9693-4bcd-cb77-70de8791ed21"
      },
      "execution_count": 88,
      "outputs": [
        {
          "output_type": "display_data",
          "data": {
            "text/plain": [
              "<Figure size 900x600 with 1 Axes>"
            ],
            "image/png": "[encoded data removed]"
          },
          "metadata": {}
        }
      ]
    },
    {
      "cell_type": "markdown",
      "source": [
        "**6.3. Gráfico de Pastel: Distribución de Categorías (Focus en la Tienda a Vender)**"
      ],
      "metadata": {
        "id": "c4vtED2Wne_4"
      }
    },
    {
      "cell_type": "code",
      "source": [
        "# Usamos el DataFrame de Ventas por Categoría (Métrica 2)\n",
        "# 1. Filtramos solo la Tienda 4\n",
        "ventas_tienda_4 = ventas_por_categoria[ventas_por_categoria['ID_Tienda'] == 'Tienda_4']\n",
        "\n",
        "# 2. Creamos el Gráfico de Pastel\n",
        "plt.figure(figsize=(9, 9))\n",
        "plt.pie(\n",
        "    ventas_tienda_4['Cantidad_Vendida'],\n",
        "    labels=ventas_tienda_4['Categoría del Producto'],\n",
        "    autopct='%1.1f%%', # Muestra el porcentaje con un decimal\n",
        "    startangle=90, # Inicia el primer segmento en la parte superior\n",
        "    colors=plt.cm.Set3.colors # Usa una paleta de colores\n",
        ")\n",
        "plt.title('3. Distribución de Cantidad de Ventas por Categoría (Tienda 4)', fontsize=16)\n",
        "plt.show()"
      ],
      "metadata": {
        "colab": {
          "base_uri": "https://localhost:8080/",
          "height": 755
        },
        "id": "1RFv2H7gnln4",
        "outputId": "337beb15-e422-48cb-94af-51f76160edec"
      },
      "execution_count": 81,
      "outputs": [
        {
          "output_type": "display_data",
          "data": {
            "text/plain": [
              "<Figure size 900x900 with 1 Axes>"
            ],
            "image/png": "[encoded data removed]"
          },
          "metadata": {}
        }
      ]
    },
    {
      "cell_type": "markdown",
      "source": [
        "#7. Informe Ejecutivo: Análisis de Desempeño y Recomendación de Venta"
      ],
      "metadata": {
        "id": "xRqzN09zqH9A"
      }
    },
    {
      "cell_type": "markdown",
      "source": [
        "**1. Introducción:** Propósito del Análisis\n",
        "El presente informe tiene como objetivo determinar qué tienda de Alura Store se debe vender para maximizar la eficiencia operativa y el valor de mercado de la empresa. La recomendación se basa en un análisis cuantitativo de cinco métricas clave: Ingresos Totales, Satisfacción del Cliente (Calificación Promedio), Composición de Ventas, y Eficiencia de Costos de Envío."
      ],
      "metadata": {
        "id": "W8p_RlLrqRDV"
      }
    },
    {
      "cell_type": "markdown",
      "source": [
        "**2. Desarrollo:** Hallazgos Clave por Métrica\n",
        "El análisis de los datos consolidados (9435 transacciones) apunta a un claro rezagado en el rendimiento global.\n",
        "\n",
        "**A. Rendimiento Financiero (Ingresos totales)**\n",
        "\n",
        "El factor de decisión inicial es el ingreso total.\n",
        "\n",
        "![Tabla.png](data:image/png;base64,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)\n",
        "\n",
        "**Conclusión del Ingreso:** Como se evidencia en el Gráfico 1: Ingreso Total por Tienda, la Tienda 4 generó el ingreso más bajo, quedando [11.5]% por debajo de la Tienda 1 (la más rentable). Esto la establece como la principal candidata para la desinversión."
      ],
      "metadata": {
        "id": "Hr_GfOrwqqrt"
      }
    },
    {
      "cell_type": "markdown",
      "source": [
        "**B. Satisfacción del Cliente (Calificaciones promedio)**\n",
        "\n",
        "La Calificación Promedio mide la experiencia del cliente y la calidad percibida.Conclusión de Calidad: Tal como se muestra en el Gráfico 2: Calificación Promedio, la Tienda 4 tiene la calificación más baja, con un promedio de [3.967]. Aunque la diferencia es marginal (las tiendas 1, 2 y 3 tienen promedios de $[3.98 - 4.01]$), esta tendencia de insatisfacción refuerza la debilidad de la Tienda 4. El problema no es solo la cantidad de ventas, sino la calidad de la experiencia.\n",
        "\n",
        "**C. Análisis del Inventario (Categorias de productos y productos mas y menos vendidos)**\n",
        "\n",
        "El análisis de ventas por producto y categoría revela el enfoque del inventario de la Tienda 4.Ventas por Categoría: El análisis de las ventas (Métrica 2) y el Gráfico 3: Distribución de Ventas de la Tienda 4 (Gráfico de Pastel) muestran que su volumen se concentra principalmente en [Mencionar las 2-3 categorías principales de la T4, ej: Muebles y Electrónicos].Productos Top y Bottom: A pesar de tener categorías competitivas, el Top 5 de productos más vendidos de la Tienda 4 no logra impulsar los ingresos al nivel de sus competidores, y sus productos menos vendidos (Bottom 5) representan un inventario estancado que consume recursos.\n",
        "\n",
        "**D. Eficiencia de Costos (Coste de envio promedio)**\n",
        "\n",
        "La eficiencia logística es un punto clave.Refutación de Costos: Se confirma que la causa de las bajas ventas no es el costo de envío. La Tienda 4 opera con el costo de envío promedio más bajo ([23,459]), mientras que la Tienda 1 tiene el más alto ([26,018]). Esto elimina la logística como factor y dirige la culpa al producto o a la promoción."
      ],
      "metadata": {
        "id": "uCMe0rGareYv"
      }
    },
    {
      "cell_type": "markdown",
      "source": [
        "#3. Conclusión y Recomendación\n",
        "Basado en el análisis multifactorial de las cinco métricas, la recomendación es clara:\n",
        "\n",
        "Recomendación: Vender la Tienda 4\n",
        "Justificación Principal:\n",
        "La Tienda 4 es la única que presenta una combinación letal de peor rendimiento financiero (Ingreso Total más bajo) y peor rendimiento de experiencia del cliente (Calificación Promedio más baja). Es la tienda con la salud más débil.\n",
        "\n",
        "Justificación Adicional:\n",
        "El problema de la Tienda 4 es intrínseco. A pesar de ser la más eficiente en logística (costo de envío más bajo), sus productos y/o servicio al cliente no logran generar volumen de ventas ni satisfacción. Venderla es una decisión estratégica para:\n",
        "\n",
        "Detener la inversión de recursos en una unidad no competitiva.\n",
        "\n",
        "Reasignar capital a las unidades con mejor salud, como la Tienda 1 y Tienda 2, que muestran un mejor equilibrio entre ingresos y calificaciones.\n",
        "\n",
        "Adjunto: Favor de consultar los Gráficos 1, 2 y 3 como evidencia visual de las conclusiones."
      ],
      "metadata": {
        "id": "YYvaU0LDsExv"
      }
    }
  ]
}